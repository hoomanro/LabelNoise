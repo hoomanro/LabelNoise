{
 "cells": [
  {
   "cell_type": "markdown",
   "id": "deb1d11a",
   "metadata": {},
   "source": [
    "# Data cleansing on noisy handwriting digits data\n",
    "\n",
    "In this demo we used scikit learn Recognizing hand-written digits example.\n",
    "\n",
    "## Loading data\n",
    "First we load the hand writing digits from scikit learn dataset"
   ]
  },
  {
   "cell_type": "code",
   "execution_count": 1,
   "id": "dbe5a95c",
   "metadata": {},
   "outputs": [
    {
     "data": {
      "image/png": "[encoded data removed]",
      "text/plain": [
       "<Figure size 720x216 with 4 Axes>"
      ]
     },
     "metadata": {
      "needs_background": "light"
     },
     "output_type": "display_data"
    }
   ],
   "source": [
    "import numpy as np\n",
    "import pandas as pd\n",
    "\n",
    "from sklearn import datasets, svm, metrics\n",
    "from sklearn.model_selection import train_test_split\n",
    "from sklearn.utils import shuffle\n",
    "from sklearn.metrics import plot_confusion_matrix\n",
    "\n",
    "import matplotlib.pyplot as plt\n",
    "import seaborn as sns\n",
    "\n",
    "digits = datasets.load_digits()\n",
    "true_y = np.copy(digits.target)\n",
    "\n",
    "_, axes = plt.subplots(nrows=1, ncols=4, figsize=(10, 3))\n",
    "for ax, image, label in zip(axes, digits.images, true_y):\n",
    "    ax.set_axis_off()\n",
    "    ax.imshow(image, cmap=plt.cm.gray_r, interpolation=\"nearest\")\n",
    "    ax.set_title(\"Training: %i\" % label)"
   ]
  },
  {
   "cell_type": "markdown",
   "id": "fc6b06cf",
   "metadata": {},
   "source": [
    "## Classification on original data\n",
    "We apply a SVM classifier on flatten images data. To do that we split data into two section train and test and evaluate the perfomance of the classifier on test data."
   ]
  },
  {
   "cell_type": "code",
   "execution_count": 2,
   "id": "53044104",
   "metadata": {},
   "outputs": [
    {
     "name": "stdout",
     "output_type": "stream",
     "text": [
      "Classification report for classifier SVC(gamma=0.001):\n",
      "              precision    recall  f1-score   support\n",
      "\n",
      "           0       1.00      0.99      0.99        88\n",
      "           1       0.99      0.97      0.98        91\n",
      "           2       0.99      0.99      0.99        86\n",
      "           3       0.98      0.87      0.92        91\n",
      "           4       0.99      0.96      0.97        92\n",
      "           5       0.95      0.97      0.96        91\n",
      "           6       0.99      0.99      0.99        91\n",
      "           7       0.96      0.99      0.97        89\n",
      "           8       0.94      1.00      0.97        88\n",
      "           9       0.93      0.98      0.95        92\n",
      "\n",
      "    accuracy                           0.97       899\n",
      "   macro avg       0.97      0.97      0.97       899\n",
      "weighted avg       0.97      0.97      0.97       899\n",
      "\n",
      "\n"
     ]
    },
    {
     "data": {
      "text/plain": [
       "Text(0.5, 0.98, 'Confusion Matrix')"
      ]
     },
     "execution_count": 2,
     "metadata": {},
     "output_type": "execute_result"
    },
    {
     "data": {
      "image/png": "[encoded data removed]",
      "text/plain": [
       "<Figure size 720x216 with 4 Axes>"
      ]
     },
     "metadata": {
      "needs_background": "light"
     },
     "output_type": "display_data"
    },
    {
     "data": {
      "image/png": "[encoded data removed]",
      "text/plain": [
       "<Figure size 576x432 with 2 Axes>"
      ]
     },
     "metadata": {
      "needs_background": "light"
     },
     "output_type": "display_data"
    }
   ],
   "source": [
    "# flatten the images\n",
    "n_samples = len(digits.images)\n",
    "data = digits.images.reshape((n_samples, -1))\n",
    "\n",
    "# Create a classifier: a support vector classifier\n",
    "clf = svm.SVC(gamma=0.001)\n",
    "\n",
    "# Split data into 50% train and 50% test subsets\n",
    "X_train, X_test, y_train, y_test = train_test_split(\n",
    "    data, true_y, test_size=0.5, shuffle=False\n",
    ")\n",
    "\n",
    "# Learn the digits on the train subset\n",
    "clf.fit(X_train, y_train)\n",
    "\n",
    "# Predict the value of the digit on the test subset\n",
    "predicted = clf.predict(X_test)\n",
    "\n",
    "\n",
    "\n",
    "_, axes = plt.subplots(nrows=1, ncols=4, figsize=(10, 3))\n",
    "for ax, image, prediction in zip(axes, X_test, predicted):\n",
    "    ax.set_axis_off()\n",
    "    image = image.reshape(8, 8)\n",
    "    ax.imshow(image, cmap=plt.cm.gray_r, interpolation=\"nearest\")\n",
    "    ax.set_title(f\"Prediction: {prediction}\")\n",
    "    \n",
    "#### classification report\n",
    "print(\n",
    "    f\"Classification report for classifier {clf}:\\n\"\n",
    "    f\"{metrics.classification_report(y_test, predicted)}\\n\"\n",
    ")    \n",
    "\n",
    "#### plot a confusion matrix \n",
    "fig, ax = plt.subplots(figsize=(8,6))\n",
    "disp = metrics.ConfusionMatrixDisplay.from_predictions(y_test, \n",
    "                                                       predicted,\n",
    "                                                       cmap=plt.cm.Blues,\n",
    "                                                       ax=ax)\n",
    "fig.suptitle(\"Confusion Matrix\")\n"
   ]
  },
  {
   "cell_type": "markdown",
   "id": "a951d4c1",
   "metadata": {},
   "source": [
    "We can see the accuracy of the classification model is 0.97.\n",
    "\n",
    "## Add label noise\n",
    "Now we add label noise to the data by keeping a copy of true (grand truth) labels and shuffling the lables of some random images. We define the `noise_ration` as the proportion of the dataset to have noisy labels. After shuffling we can notice that some images might obtain their original labels. So, we calculate the actual noise ratio as the total images that actually have different labels as their original true label. \n",
    "\n",
    "We also can plot some of those images with label noise."
   ]
  },
  {
   "cell_type": "code",
   "execution_count": 3,
   "id": "f80232f2",
   "metadata": {},
   "outputs": [
    {
     "name": "stdout",
     "output_type": "stream",
     "text": [
      "label noise ratio: \t\t\t 0.5 (898 samples)\n",
      "actual lable noise ratio (shuffled): 0.4474 (804 actual samples)\n"
     ]
    },
    {
     "data": {
      "image/png": "[encoded data removed]",
      "text/plain": [
       "<Figure size 1080x216 with 6 Axes>"
      ]
     },
     "metadata": {
      "needs_background": "light"
     },
     "output_type": "display_data"
    }
   ],
   "source": [
    "noisy_y = np.copy(digits.target)\n",
    "noise_ratio = 0.5\n",
    "num_noise = np.floor(digits.target.shape[0] * noise_ratio).astype(int)\n",
    "\n",
    "noisy_index = np.random.choice(true_y.shape[0], num_noise, replace=False)  # index of noisy label\n",
    "noisy_y[noisy_index] =  shuffle(noisy_y[noisy_index], random_state=0)\n",
    "\n",
    "num_noise_actual = (num_noise - (noisy_y[noisy_index] == true_y[noisy_index]).sum()) \n",
    "actual_noisy_index = noisy_index[noisy_y[noisy_index] != true_y[noisy_index]]\n",
    "noise_ratio_actual = num_noise_actual/true_y.shape[0]\n",
    "print(f\"label noise ratio: \\t\\t\\t {noise_ratio} ({num_noise} samples)\\n\" +\n",
    "      f\"actual lable noise ratio (shuffled): {noise_ratio_actual:.4f} ({num_noise_actual} actual samples)\")\n",
    "\n",
    "_, axes = plt.subplots(nrows=1, ncols=6, figsize=(15, 3))\n",
    "for ax, image, prediction in zip(axes, digits.images[actual_noisy_index], noisy_y[actual_noisy_index]):\n",
    "    ax.set_axis_off()\n",
    "    image = image.reshape(8, 8)\n",
    "    ax.imshow(image, cmap=plt.cm.gray_r, interpolation=\"nearest\")\n",
    "    ax.set_title(f\"Prediction: {prediction}\")\n",
    "    \n"
   ]
  },
  {
   "cell_type": "markdown",
   "id": "fcda8cae",
   "metadata": {},
   "source": [
    "We can see by suffling 0.5 of random images on the dataset, we added label nosie to about 0.45 of data. The total number of samples which have been affected by shuffling and got other labels than their original labels are around 800 images. "
   ]
  },
  {
   "cell_type": "markdown",
   "id": "b4ee6d45",
   "metadata": {},
   "source": [
    "## classification of noisy data\n",
    "\n",
    "We trained same model with noise data similary and by applying same models on the data, we can see the perfomance of the classificaion model drops from 0.97 to around 0.50"
   ]
  },
  {
   "cell_type": "code",
   "execution_count": 4,
   "id": "d888e6da",
   "metadata": {},
   "outputs": [
    {
     "name": "stdout",
     "output_type": "stream",
     "text": [
      "Classification report for classifier SVC(gamma=0.001):\n",
      "              precision    recall  f1-score   support\n",
      "\n",
      "           0       0.53      0.52      0.53        91\n",
      "           1       0.53      0.52      0.52        93\n",
      "           2       0.52      0.47      0.49        85\n",
      "           3       0.53      0.51      0.52        94\n",
      "           4       0.63      0.55      0.59        98\n",
      "           5       0.58      0.54      0.56        98\n",
      "           6       0.55      0.55      0.55        93\n",
      "           7       0.55      0.59      0.57        90\n",
      "           8       0.43      0.59      0.50        70\n",
      "           9       0.48      0.51      0.49        87\n",
      "\n",
      "    accuracy                           0.53       899\n",
      "   macro avg       0.53      0.53      0.53       899\n",
      "weighted avg       0.54      0.53      0.53       899\n",
      "\n",
      "\n"
     ]
    },
    {
     "data": {
      "text/plain": [
       "Text(0.5, 0.98, 'Confusion Matrix (Noisy Vs Predicted)')"
      ]
     },
     "execution_count": 4,
     "metadata": {},
     "output_type": "execute_result"
    },
    {
     "data": {
      "image/png": "[encoded data removed]",
      "text/plain": [
       "<Figure size 576x432 with 2 Axes>"
      ]
     },
     "metadata": {
      "needs_background": "light"
     },
     "output_type": "display_data"
    }
   ],
   "source": [
    "# Create a classifier: a support vector classifier\n",
    "clf = svm.SVC(gamma=0.001)\n",
    "\n",
    "# Split data into 50% train and 50% test subsets\n",
    "X_train, X_test, y_train, y_test = train_test_split(\n",
    "    data, noisy_y, test_size=0.5, shuffle=False\n",
    ")\n",
    "\n",
    "# Learn the digits on the train subset\n",
    "clf.fit(X_train, y_train)\n",
    "\n",
    "# Predict the value of the digit on the test subset\n",
    "predicted = clf.predict(X_test)\n",
    "\n",
    "    \n",
    "#### classification report\n",
    "print(\n",
    "    f\"Classification report for classifier {clf}:\\n\"\n",
    "    f\"{metrics.classification_report(y_test, predicted)}\\n\"\n",
    ")    \n",
    "\n",
    "#### plot a confusion matrix \n",
    "fig, ax = plt.subplots(figsize=(8,6))\n",
    "disp = metrics.ConfusionMatrixDisplay.from_predictions(y_test, \n",
    "                                                       predicted,\n",
    "                                                       cmap=plt.cm.Blues,\n",
    "                                                       ax=ax)\n",
    "ax.set_ylabel(\"Noisy label\")\n",
    "fig.suptitle(\"Confusion Matrix (Noisy Vs Predicted)\")\n"
   ]
  },
  {
   "cell_type": "markdown",
   "id": "295c4f36",
   "metadata": {},
   "source": [
    "## Data cleansing\n",
    "One approach to handle noise label is data cleansing method. We can import and create instance of the LabelNoise class and apply the data cleansing method on the noisy data to remove and reassign label noise. It will identify label noise base on running classification mutliple time iteratibly on the noisy data in cross-validated form and reasign new labels to them based on the cleansed data. The method continues till the noise_ratio of the dataset drops below some threshold (default is 0.05). The method described in more detail in our paper [1]. \n",
    "\n",
    "Caveate: the choise of classifier and its parameters is important. One way to obtain good classification pipeline is to apply grid search on multiple models with different range of parameters.\n",
    "\n",
    "To do that we need to define a scikit learn classification pipeline and assign it to the `LabelNoise` instance. \n",
    "\n",
    "The `LabelNoise` class can take:\n",
    "```\n",
    "data: input data\n",
    "targe: the given labels\n",
    "name: name for instance.\n",
    "pipeline: classification pipeline\n",
    "cv: cross validation form\n",
    "balance_method: the method to handel imbalanced classes. undersampling, oversampling and None.\n",
    "noise_threshold: onise ratio threshold to stop convergance of data cleansing algorithm.\n",
    "\n",
    "```\n",
    "\n",
    "<a href=\"https://doi.org/10.1016/j.bpsc.2020.05.008\">[1]  Rokham, Hooman, et al. \"Addressing inaccurate nosology in mental health: A multilabel data cleansing approach for detecting label noise from structural magnetic resonance imaging data in mood and psychosis disorders.\" Biological Psychiatry: Cognitive Neuroscience and Neuroimaging 5.8 (2020): 819-832.</a> https://doi.org/10.1016/j.bpsc.2020.05.008"
   ]
  },
  {
   "cell_type": "code",
   "execution_count": 5,
   "id": "0c818c52",
   "metadata": {},
   "outputs": [],
   "source": [
    "from labelnoise import LabelNoise\n",
    "from sklearn.model_selection import RepeatedStratifiedKFold \n",
    "from sklearn.pipeline import Pipeline\n",
    "\n",
    "#### pipelines\n",
    "svm_params = dict(gamma=0.001)\n",
    "\n",
    "pipeline = Pipeline([\n",
    "    (\"clf\", svm.SVC(**svm_params))\n",
    "    ])\n",
    "\n",
    "#### Cross validation\n",
    "cv = RepeatedStratifiedKFold(n_splits=5, \n",
    "                             n_repeats=3,\n",
    "                             random_state=None)\n",
    "\n",
    "#### label noise instance\n",
    "ln_digits = LabelNoise(\n",
    "                data=data,\n",
    "                target=noisy_y, \n",
    "                name=\"noisy_digit_svm\",\n",
    "                verbose=1,\n",
    "                pipeline = pipeline,\n",
    "                cv=cv,\n",
    "                balance_method = \"undersampling\",\n",
    "                noise_threshold = 0.05\n",
    "            )\n",
    "\n"
   ]
  },
  {
   "cell_type": "markdown",
   "id": "5e5abe1e",
   "metadata": {},
   "source": [
    "After creating instance we can call `datacleansing` function of instance. It returns the `given_labels` and `cleansed_labels` for the dataset."
   ]
  },
  {
   "cell_type": "code",
   "execution_count": null,
   "id": "496f6e2f",
   "metadata": {},
   "outputs": [
    {
     "name": "stdout",
     "output_type": "stream",
     "text": [
      "/n/n/n############## converge_iter:1 ##############\n",
      "undersampling applied on data\n",
      "model score: 0.555\n"
     ]
    }
   ],
   "source": [
    "#### apply data cleansing \n",
    "ln_digits.datacleansing()"
   ]
  },
  {
   "cell_type": "markdown",
   "id": "f2029e9e",
   "metadata": {},
   "source": [
    "We can see that after the noise ratio in second convergance iteration drops from ~0.45 to ~0.006. Given labels and newly assigned cleansed labels return as the output of the datacleansing method.\n",
    "\n",
    "We can copare the cleansed labels from `datacleansing` to the ground truth labels. Note the ground truth labels are the original labels of the digit dataset before applying label noise. "
   ]
  },
  {
   "cell_type": "code",
   "execution_count": null,
   "id": "bf226a13",
   "metadata": {},
   "outputs": [],
   "source": [
    "ln_digits.labels['true_y'] = true_y\n",
    "\n",
    "#### plot a confusion matrix \n",
    "fig, ax = plt.subplots(1,2, figsize=(8*2,6))\n",
    "fig.suptitle(\"Confusion matrix\\nleft: True vs. Noisy right:True Vs. cleansed)\")\n",
    "metrics.ConfusionMatrixDisplay.from_predictions(ln_digits.labels['true_y'], \n",
    "                                                       ln_digits.labels['given_target'],\n",
    "                                                       cmap=plt.cm.Blues,\n",
    "                                                       normalize=\"true\",\n",
    "                                                       ax=ax[0])\n",
    "\n",
    "metrics.ConfusionMatrixDisplay.from_predictions(ln_digits.labels['true_y'], \n",
    "                                                       ln_digits.labels['cleansed_target'],\n",
    "                                                       cmap=plt.cm.Blues,\n",
    "                                                       normalize=\"true\",\n",
    "                                                       ax=ax[1])\n",
    "ax[0].set_xlabel(\"Noisy label\")\n",
    "ax[1].set_xlabel(\"Cleansed label\")\n",
    "\n"
   ]
  },
  {
   "cell_type": "code",
   "execution_count": null,
   "id": "88934100",
   "metadata": {},
   "outputs": [],
   "source": []
  }
 ],
 "metadata": {
  "kernelspec": {
   "display_name": "Python 3 (ipykernel)",
   "language": "python",
   "name": "python3"
  },
  "language_info": {
   "codemirror_mode": {
    "name": "ipython",
    "version": 3
   },
   "file_extension": ".py",
   "mimetype": "text/x-python",
   "name": "python",
   "nbconvert_exporter": "python",
   "pygments_lexer": "ipython3",
   "version": "3.8.13"
  }
 },
 "nbformat": 4,
 "nbformat_minor": 5
}
